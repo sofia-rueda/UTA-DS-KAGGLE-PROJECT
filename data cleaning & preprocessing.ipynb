{
  "nbformat": 4,
  "nbformat_minor": 0,
  "metadata": {
    "colab": {
      "provenance": []
    },
    "kernelspec": {
      "name": "python3",
      "display_name": "Python 3"
    },
    "language_info": {
      "name": "python"
    }
  },
  "cells": [
    {
      "cell_type": "code",
      "execution_count": null,
      "metadata": {
        "id": "Gx4_cIqFVtNq"
      },
      "outputs": [],
      "source": [
        "import numpy as np\n",
        "import pandas as pd\n",
        "import matplotlib.pyplot as plt\n",
        "import seaborn as sns\n",
        "from sklearn.model_selection import train_test_split\n",
        "from sklearn.tree import DecisionTreeClassifier\n",
        "from sklearn.metrics import accuracy_score, classification_report\n",
        "from sklearn.preprocessing import LabelEncoder\n",
        "from sklearn.tree import export_text"
      ]
    },
    {
      "cell_type": "code",
      "source": [
        "data = pd.read_csv('mushrooms.csv')"
      ],
      "metadata": {
        "id": "ebdL4f2XWsJL"
      },
      "execution_count": null,
      "outputs": []
    },
    {
      "cell_type": "code",
      "source": [
        "#use label encoding"
      ],
      "metadata": {
        "id": "qdXlVU37WsLO"
      },
      "execution_count": null,
      "outputs": []
    },
    {
      "cell_type": "code",
      "source": [
        "from sklearn.preprocessing import LabelEncoder\n",
        "\n",
        "# Initialize the LabelEncoder\n",
        "encoder = LabelEncoder()\n",
        "\n",
        "# Select the object (categorical) columns in the dataset\n",
        "object_columns = data.select_dtypes(include=['object']).columns\n",
        "\n",
        "# Apply Label Encoding for each categorical column\n",
        "for col in object_columns:\n",
        "    data[col] = encoder.fit_transform(data[col])\n",
        "\n",
        "# Check the result\n",
        "print(data.head())"
      ],
      "metadata": {
        "id": "SV2cnmJjWsNm",
        "colab": {
          "base_uri": "https://localhost:8080/"
        },
        "outputId": "a25f9280-e5b9-4b1e-b5ae-9cdfc6fb4bcb"
      },
      "execution_count": null,
      "outputs": [
        {
          "output_type": "stream",
          "name": "stdout",
          "text": [
            "   class  cap-shape  cap-surface  cap-color  bruises  odor  gill-attachment  \\\n",
            "0      1          5            2          4        1     6                1   \n",
            "1      0          5            2          9        1     0                1   \n",
            "2      0          0            2          8        1     3                1   \n",
            "3      1          5            3          8        1     6                1   \n",
            "4      0          5            2          3        0     5                1   \n",
            "\n",
            "   gill-spacing  gill-size  gill-color  ...  stalk-surface-below-ring  \\\n",
            "0             0          1           4  ...                         2   \n",
            "1             0          0           4  ...                         2   \n",
            "2             0          0           5  ...                         2   \n",
            "3             0          1           5  ...                         2   \n",
            "4             1          0           4  ...                         2   \n",
            "\n",
            "   stalk-color-above-ring  stalk-color-below-ring  veil-type  veil-color  \\\n",
            "0                       7                       7          0           2   \n",
            "1                       7                       7          0           2   \n",
            "2                       7                       7          0           2   \n",
            "3                       7                       7          0           2   \n",
            "4                       7                       7          0           2   \n",
            "\n",
            "   ring-number  ring-type  spore-print-color  population  habitat  \n",
            "0            1          4                  2           3        5  \n",
            "1            1          4                  3           2        1  \n",
            "2            1          4                  3           2        3  \n",
            "3            1          4                  2           3        5  \n",
            "4            1          0                  3           0        1  \n",
            "\n",
            "[5 rows x 23 columns]\n"
          ]
        }
      ]
    },
    {
      "cell_type": "markdown",
      "source": [
        "This code applies one encoding techniques to preprocess categorical columns in the `data` DataFrame:\n",
        "\n",
        "1. **Label Encoding (Step 1)**: For the specified columns in `label_columns`, the `LabelEncoder` is used to convert each categorical value into a numeric label (integer). The `fit_transform()` method is applied to each of these columns, replacing the original categorical values with their corresponding numeric labels. Label encoding is typically used for ordinal data where the categorical values have an inherent order.\n",
        "\n",
        "In summary, this code first transforms ordinal categorical variables into numerical labels and then applies one-hot encoding to the remaining nominal categorical variables, preparing the data for machine learning algorithms."
      ],
      "metadata": {
        "id": "5hFzzbIKl-4w"
      }
    },
    {
      "cell_type": "code",
      "source": [
        "print(data.dtypes)"
      ],
      "metadata": {
        "colab": {
          "base_uri": "https://localhost:8080/"
        },
        "id": "RU1QQP8rfvqN",
        "outputId": "7971875d-f568-4cd9-880b-c143ffa87bb0"
      },
      "execution_count": null,
      "outputs": [
        {
          "output_type": "stream",
          "name": "stdout",
          "text": [
            "class                       int64\n",
            "cap-shape                   int64\n",
            "cap-surface                 int64\n",
            "cap-color                   int64\n",
            "bruises                     int64\n",
            "odor                        int64\n",
            "gill-attachment             int64\n",
            "gill-spacing                int64\n",
            "gill-size                   int64\n",
            "gill-color                  int64\n",
            "stalk-shape                 int64\n",
            "stalk-root                  int64\n",
            "stalk-surface-above-ring    int64\n",
            "stalk-surface-below-ring    int64\n",
            "stalk-color-above-ring      int64\n",
            "stalk-color-below-ring      int64\n",
            "veil-type                   int64\n",
            "veil-color                  int64\n",
            "ring-number                 int64\n",
            "ring-type                   int64\n",
            "spore-print-color           int64\n",
            "population                  int64\n",
            "habitat                     int64\n",
            "dtype: object\n"
          ]
        }
      ]
    },
    {
      "cell_type": "code",
      "source": [
        "#making tables for percentage for each attribute based on the Class, to see if you can remove it"
      ],
      "metadata": {
        "id": "cRm9zhmEWsWK"
      },
      "execution_count": null,
      "outputs": []
    },
    {
      "cell_type": "code",
      "source": [
        "# Exclude 'class' column from analysis\n",
        "columns_to_analyze = [col for col in data.columns if col != 'class']\n",
        "\n",
        "# Loop through each column and calculate percentages based on class\n",
        "for col in columns_to_analyze:\n",
        "    print(f\"Analyzing column: {col}\")\n",
        "\n",
        "    # Calculate percentage distribution based on 'class'\n",
        "    percentage_table = data.groupby(['class', col]).size().unstack(fill_value=0)\n",
        "    percentage_table = percentage_table.apply(lambda x: x / x.sum() * 100, axis=1)  # Convert counts to percentages\n",
        "\n",
        "    print(percentage_table)\n",
        "    print(\"\\n\")"
      ],
      "metadata": {
        "colab": {
          "base_uri": "https://localhost:8080/"
        },
        "id": "fpku7x7GWsYO",
        "outputId": "b552e93e-996a-4137-f9b5-d4d655c4bb94"
      },
      "execution_count": null,
      "outputs": [
        {
          "output_type": "stream",
          "name": "stdout",
          "text": [
            "Analyzing column: cap-shape\n",
            "cap-shape         0         1          2          3         4          5\n",
            "class                                                                   \n",
            "0          9.600760  0.000000  37.927757   5.418251  0.760456  46.292776\n",
            "1          1.225741  0.102145  39.734423  15.321757  0.000000  43.615935\n",
            "\n",
            "\n",
            "Analyzing column: cap-surface\n",
            "cap-surface          0         1          2          3\n",
            "class                                                 \n",
            "0            37.072243  0.000000  27.186312  35.741445\n",
            "1            19.407559  0.102145  36.057201  44.433095\n",
            "\n",
            "\n",
            "Analyzing column: cap-color\n",
            "cap-color         0         1          2          3          4         5  \\\n",
            "class                                                                      \n",
            "0          1.140684  0.760456  14.828897  24.524715  30.038023  1.330798   \n",
            "1          3.064351  0.306435  22.369765  20.633299  26.046987  2.247191   \n",
            "\n",
            "cap-color         6         7          8          9  \n",
            "class                                                \n",
            "0          0.380228  0.380228  17.110266   9.505703  \n",
            "1          0.000000  0.000000   8.171604  17.160368  \n",
            "\n",
            "\n",
            "Analyzing column: bruises\n",
            "bruises          0          1\n",
            "class                        \n",
            "0        34.600760  65.399240\n",
            "1        84.065373  15.934627\n",
            "\n",
            "\n",
            "Analyzing column: odor\n",
            "odor          0         1          2         3         4          5         6  \\\n",
            "class                                                                           \n",
            "0      9.505703  0.000000   0.000000  9.505703  0.000000  80.988593  0.000000   \n",
            "1      0.000000  4.902962  55.158325  0.000000  0.919305   3.064351  6.537283   \n",
            "\n",
            "odor           7          8  \n",
            "class                        \n",
            "0       0.000000   0.000000  \n",
            "1      14.708887  14.708887  \n",
            "\n",
            "\n",
            "Analyzing column: gill-attachment\n",
            "gill-attachment         0          1\n",
            "class                               \n",
            "0                4.562738  95.437262\n",
            "1                0.459653  99.540347\n",
            "\n",
            "\n",
            "Analyzing column: gill-spacing\n",
            "gill-spacing          0          1\n",
            "class                             \n",
            "0             71.482890  28.517110\n",
            "1             97.139939   2.860061\n",
            "\n",
            "\n",
            "Analyzing column: gill-size\n",
            "gill-size          0          1\n",
            "class                          \n",
            "0          93.155894   6.844106\n",
            "1          43.207354  56.792646\n",
            "\n",
            "\n",
            "Analyzing column: gill-color\n",
            "gill-color        0         1          2          3         4          5   \\\n",
            "class                                                                       \n",
            "0            0.00000  2.281369   5.893536   4.847909  8.174905  22.243346   \n",
            "1           44.12666  0.000000  12.870276  13.483146  1.634321   2.860061   \n",
            "\n",
            "gill-color        6          7        8          9          10        11  \n",
            "class                                                                     \n",
            "0           1.520913  20.247148  0.00000  10.551331  22.718631  1.520913  \n",
            "1           0.000000  16.343207  0.61287   1.225741   6.281920  0.561798  \n",
            "\n",
            "\n",
            "Analyzing column: stalk-shape\n",
            "stalk-shape          0          1\n",
            "class                            \n",
            "0            38.403042  61.596958\n",
            "1            48.518897  51.481103\n",
            "\n",
            "\n",
            "Analyzing column: stalk-root\n",
            "stalk-root          0          1          2          3         4\n",
            "class                                                           \n",
            "0           17.110266  45.627376  12.167300  20.532319  4.562738\n",
            "1           44.943820  47.395301   1.123596   6.537283  0.000000\n",
            "\n",
            "\n",
            "Analyzing column: stalk-surface-above-ring\n",
            "stalk-surface-above-ring         0          1          2         3\n",
            "class                                                             \n",
            "0                         9.695817   3.422053  86.501901  0.380228\n",
            "1                         3.677222  56.894791  39.223698  0.204290\n",
            "\n",
            "\n",
            "Analyzing column: stalk-surface-below-ring\n",
            "stalk-surface-below-ring          0          1          2         3\n",
            "class                                                              \n",
            "0                         10.836502   3.422053  80.798479  4.942966\n",
            "1                          3.677222  55.158325  39.223698  1.940756\n",
            "\n",
            "\n",
            "Analyzing column: stalk-color-above-ring\n",
            "stalk-color-above-ring          0         1         2          3          4  \\\n",
            "class                                                                         \n",
            "0                        0.000000  0.000000  2.281369  13.688213   0.380228   \n",
            "1                       11.031665  0.919305  0.000000   0.000000  11.031665   \n",
            "\n",
            "stalk-color-above-ring         5          6         7        8  \n",
            "class                                                           \n",
            "0                       4.562738  13.688213  65.39924  0.00000  \n",
            "1                       0.000000  33.094995  43.71808  0.20429  \n",
            "\n",
            "\n",
            "Analyzing column: stalk-color-below-ring\n",
            "stalk-color-below-ring          0         1         2          3          4  \\\n",
            "class                                                                         \n",
            "0                        0.000000  0.000000  2.281369  13.688213   1.520913   \n",
            "1                       11.031665  0.919305  0.000000   0.000000  11.440245   \n",
            "\n",
            "stalk-color-below-ring         5          6          7        8  \n",
            "class                                                            \n",
            "0                       4.562738  13.688213  64.258555  0.00000  \n",
            "1                       0.000000  33.094995  42.900919  0.61287  \n",
            "\n",
            "\n",
            "Analyzing column: veil-type\n",
            "veil-type      0\n",
            "class           \n",
            "0          100.0\n",
            "1          100.0\n",
            "\n",
            "\n",
            "Analyzing column: veil-color\n",
            "veil-color         0         1          2        3\n",
            "class                                             \n",
            "0           2.281369  2.281369  95.437262  0.00000\n",
            "1           0.000000  0.000000  99.795710  0.20429\n",
            "\n",
            "\n",
            "Analyzing column: ring-number\n",
            "ring-number         0          1          2\n",
            "class                                      \n",
            "0            0.000000  87.452471  12.547529\n",
            "1            0.919305  97.242084   1.838611\n",
            "\n",
            "\n",
            "Analyzing column: ring-type\n",
            "ring-type          0         1          2         3          4\n",
            "class                                                         \n",
            "0          23.954373  1.140684   0.000000  0.000000  74.904943\n",
            "1          45.148110  0.000000  33.094995  0.919305  20.837589\n",
            "\n",
            "\n",
            "Analyzing column: spore-print-color\n",
            "spore-print-color         0          1          2          3         4  \\\n",
            "class                                                                    \n",
            "0                  1.140684   1.140684  39.163498  41.444867  1.140684   \n",
            "1                  0.000000  40.449438   5.720123   5.720123  0.000000   \n",
            "\n",
            "spore-print-color         5         6          7         8  \n",
            "class                                                       \n",
            "0                  0.000000  1.140684  13.688213  1.140684  \n",
            "1                  1.838611  0.000000  46.271706  0.000000  \n",
            "\n",
            "\n",
            "Analyzing column: population\n",
            "population         0         1         2          3          4          5\n",
            "class                                                                    \n",
            "0           9.125475  6.844106  9.505703  20.912548  28.326996  25.285171\n",
            "1           0.000000  1.327886  0.000000   9.397344  72.727273  16.547497\n",
            "\n",
            "\n",
            "Analyzing column: habitat\n",
            "habitat          0          1          2         3          4         5  \\\n",
            "class                                                                     \n",
            "0        44.676806  33.460076   5.703422  6.083650   3.231939  2.281369   \n",
            "1        32.379980  18.896834  15.117467  0.919305  25.740552  6.945863   \n",
            "\n",
            "habitat         6  \n",
            "class              \n",
            "0        4.562738  \n",
            "1        0.000000  \n",
            "\n",
            "\n"
          ]
        }
      ]
    },
    {
      "cell_type": "markdown",
      "source": [
        "This code analyzes the distribution of values in each column (excluding the 'class' column) based on the target class in the `data` DataFrame. Here's a breakdown of what it does:\n",
        "\n",
        "1. **Excludes the 'class' Column**: The list `columns_to_analyze` contains all columns in the `data` DataFrame except for the 'class' column, which is assumed to be the target variable.\n",
        "\n",
        "2. **Analyzes Each Column**: For each column in `columns_to_analyze`, the code:\n",
        "   - Prints the name of the column being analyzed.\n",
        "   - Groups the data by the 'class' column and the current column (`col`), then counts the occurrences of each combination using `.groupby(['class', col]).size()`. This generates a frequency table of class and column value combinations.\n",
        "   - Converts the count values into percentages by applying `.apply(lambda x: x / x.sum() * 100, axis=1)`, which normalizes the counts within each class (i.e., the sum of percentages for each class will be 100%).\n",
        "\n",
        "3. **Prints the Results**: It prints out the percentage distribution of the values in each column based on the class, providing insights into how each feature is distributed across different class labels.\n",
        "\n",
        "This approach is useful for understanding the relationship between each feature and the target variable ('class'), showing the relative frequencies of feature values for each class."
      ],
      "metadata": {
        "id": "gsplO15wnBH1"
      }
    },
    {
      "cell_type": "code",
      "source": [
        "# Step 2: Save the DataFrame to a new CSV file\n",
        "output_file = \"mushroom1.csv\"\n",
        "data.to_csv(output_file, index=False)\n",
        "\n",
        "print(f\"Data has been saved to {output_file}!\")"
      ],
      "metadata": {
        "colab": {
          "base_uri": "https://localhost:8080/"
        },
        "id": "E1wNKFircOvM",
        "outputId": "b9b89e3e-ac10-48dd-b36d-b03a396abc9e"
      },
      "execution_count": null,
      "outputs": [
        {
          "output_type": "stream",
          "name": "stdout",
          "text": [
            "Data has been saved to mushroom1.csv!\n"
          ]
        }
      ]
    },
    {
      "cell_type": "markdown",
      "source": [
        "This code saves the modified `data` DataFrame to a new CSV file. Here's what it does:\n",
        "\n",
        "1. **Defines Output File**: The variable `output_file` is set to the string `\"mushroom1.csv\"`, which represents the name of the file where the data will be saved.\n",
        "\n",
        "2. **Saves the DataFrame**: The `to_csv(output_file, index=False)` method is called on the `data` DataFrame. This saves the DataFrame as a CSV file with the name specified in `output_file`. The `index=False` argument ensures that the row indices are not included in the saved CSV file, so only the data and column headers are written.\n",
        "\n",
        "3. **Prints Confirmation**: After the file is saved, the code prints a confirmation message indicating that the data has been successfully saved to the specified CSV file.\n",
        "\n",
        "This code is useful for exporting your cleaned and processed dataset for further analysis or sharing."
      ],
      "metadata": {
        "id": "G6yVQBmDnIme"
      }
    }
  ]
}